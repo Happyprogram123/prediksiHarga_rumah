{
 "cells": [
  {
   "cell_type": "markdown",
   "id": "10c6d98c",
   "metadata": {},
   "source": [
    "# Contoh Prediksi Harga Rumah\n",
    "\n",
    "## Menggunakan Metode Simple Linier Regression\n",
    "\n",
    "### Referensi : https://medium.com/@adiptamartulandi/memprediksi-harga-rumah-dengan-machine-learning-multivariate-linear-regression-ucupstory-6f0bac830077\n",
    "\n",
    "#### Diketahui seorang calon pembeli menginginkan rumah dengan kriteria sebagai berikut:\n",
    "#### - Jumlah kamar tidur = 3\n",
    "#### - Jumlah kamar mandi = 1\n",
    "#### - Luas tanah = 750 sqlt = kaki persegi\n",
    "\n",
    "\n"
   ]
  },
  {
   "cell_type": "code",
   "execution_count": 1,
   "id": "a4cb7c0c",
   "metadata": {},
   "outputs": [],
   "source": [
    "# Load library python\n",
    "import pandas as pd\n",
    "import matplotlib.pyplot as plt\n",
    "import numpy as np\n",
    "import seaborn as sns\n",
    "from sklearn.linear_model import LinearRegression\n",
    "from sklearn.model_selection import train_test_split"
   ]
  },
  {
   "cell_type": "code",
   "execution_count": 43,
   "id": "76d69556",
   "metadata": {},
   "outputs": [],
   "source": [
    "# https://pandas.pydata.org/pandas-docs/stable/reference/api/pandas.read_excel.html\n",
    "# Ambil beberapa kolom kecuali electricaly\n",
    "# Load dataset dengan pandas\n",
    "df = pd.read_excel('houseJkt_price.xlsx', usecols=['price', 'sqlt_living', 'bedroom', 'bathroom'])"
   ]
  },
  {
   "cell_type": "code",
   "execution_count": 44,
   "id": "b0f61a03",
   "metadata": {},
   "outputs": [
    {
     "data": {
      "text/html": [
       "<div>\n",
       "<style scoped>\n",
       "    .dataframe tbody tr th:only-of-type {\n",
       "        vertical-align: middle;\n",
       "    }\n",
       "\n",
       "    .dataframe tbody tr th {\n",
       "        vertical-align: top;\n",
       "    }\n",
       "\n",
       "    .dataframe thead th {\n",
       "        text-align: right;\n",
       "    }\n",
       "</style>\n",
       "<table border=\"1\" class=\"dataframe\">\n",
       "  <thead>\n",
       "    <tr style=\"text-align: right;\">\n",
       "      <th></th>\n",
       "      <th>sqlt_living</th>\n",
       "      <th>bedroom</th>\n",
       "      <th>bathroom</th>\n",
       "      <th>price</th>\n",
       "    </tr>\n",
       "  </thead>\n",
       "  <tbody>\n",
       "    <tr>\n",
       "      <th>0</th>\n",
       "      <td>322</td>\n",
       "      <td>3</td>\n",
       "      <td>2</td>\n",
       "      <td>18000</td>\n",
       "    </tr>\n",
       "    <tr>\n",
       "      <th>1</th>\n",
       "      <td>742</td>\n",
       "      <td>3</td>\n",
       "      <td>2</td>\n",
       "      <td>10000</td>\n",
       "    </tr>\n",
       "    <tr>\n",
       "      <th>2</th>\n",
       "      <td>5489</td>\n",
       "      <td>2</td>\n",
       "      <td>2</td>\n",
       "      <td>15000</td>\n",
       "    </tr>\n",
       "    <tr>\n",
       "      <th>3</th>\n",
       "      <td>279</td>\n",
       "      <td>2</td>\n",
       "      <td>1</td>\n",
       "      <td>38000</td>\n",
       "    </tr>\n",
       "    <tr>\n",
       "      <th>4</th>\n",
       "      <td>1205</td>\n",
       "      <td>6</td>\n",
       "      <td>2</td>\n",
       "      <td>22000</td>\n",
       "    </tr>\n",
       "  </tbody>\n",
       "</table>\n",
       "</div>"
      ],
      "text/plain": [
       "   sqlt_living  bedroom  bathroom  price\n",
       "0          322        3         2  18000\n",
       "1          742        3         2  10000\n",
       "2         5489        2         2  15000\n",
       "3          279        2         1  38000\n",
       "4         1205        6         2  22000"
      ]
     },
     "execution_count": 44,
     "metadata": {},
     "output_type": "execute_result"
    }
   ],
   "source": [
    "# Melihat 5 baris teratas dari data.\n",
    "df.head()"
   ]
  },
  {
   "cell_type": "code",
   "execution_count": 45,
   "id": "489449bc",
   "metadata": {},
   "outputs": [
    {
     "data": {
      "text/plain": [
       "(9, 4)"
      ]
     },
     "execution_count": 45,
     "metadata": {},
     "output_type": "execute_result"
    }
   ],
   "source": [
    "# Mengetahui jumlah kolom dan baris dari data.\n",
    "df.shape"
   ]
  },
  {
   "cell_type": "code",
   "execution_count": 47,
   "id": "550034cb",
   "metadata": {},
   "outputs": [
    {
     "name": "stdout",
     "output_type": "stream",
     "text": [
      "<class 'pandas.core.frame.DataFrame'>\n",
      "RangeIndex: 9 entries, 0 to 8\n",
      "Data columns (total 4 columns):\n",
      " #   Column       Non-Null Count  Dtype\n",
      "---  ------       --------------  -----\n",
      " 0   sqlt_living  9 non-null      int64\n",
      " 1   bedroom      9 non-null      int64\n",
      " 2   bathroom     9 non-null      int64\n",
      " 3   price        9 non-null      int64\n",
      "dtypes: int64(4)\n",
      "memory usage: 416.0 bytes\n"
     ]
    }
   ],
   "source": [
    "#Melihat informasi data ucup mulai dari jumlah data, tipe data, memory yang digunakan dll.\n",
    "#Dapat dilihat bahwa seluruh data sudah di dalam bentuk numerik.\n",
    "df.info()"
   ]
  },
  {
   "cell_type": "code",
   "execution_count": 48,
   "id": "5a95c30d",
   "metadata": {},
   "outputs": [
    {
     "data": {
      "text/html": [
       "<div>\n",
       "<style scoped>\n",
       "    .dataframe tbody tr th:only-of-type {\n",
       "        vertical-align: middle;\n",
       "    }\n",
       "\n",
       "    .dataframe tbody tr th {\n",
       "        vertical-align: top;\n",
       "    }\n",
       "\n",
       "    .dataframe thead th {\n",
       "        text-align: right;\n",
       "    }\n",
       "</style>\n",
       "<table border=\"1\" class=\"dataframe\">\n",
       "  <thead>\n",
       "    <tr style=\"text-align: right;\">\n",
       "      <th></th>\n",
       "      <th>sqlt_living</th>\n",
       "      <th>bedroom</th>\n",
       "      <th>bathroom</th>\n",
       "      <th>price</th>\n",
       "    </tr>\n",
       "  </thead>\n",
       "  <tbody>\n",
       "    <tr>\n",
       "      <th>count</th>\n",
       "      <td>9.000000</td>\n",
       "      <td>9.000000</td>\n",
       "      <td>9.000000</td>\n",
       "      <td>9.000000</td>\n",
       "    </tr>\n",
       "    <tr>\n",
       "      <th>mean</th>\n",
       "      <td>1221.777778</td>\n",
       "      <td>2.666667</td>\n",
       "      <td>1.555556</td>\n",
       "      <td>20333.333333</td>\n",
       "    </tr>\n",
       "    <tr>\n",
       "      <th>std</th>\n",
       "      <td>1632.865639</td>\n",
       "      <td>1.414214</td>\n",
       "      <td>0.527046</td>\n",
       "      <td>14551.632211</td>\n",
       "    </tr>\n",
       "    <tr>\n",
       "      <th>min</th>\n",
       "      <td>279.000000</td>\n",
       "      <td>1.000000</td>\n",
       "      <td>1.000000</td>\n",
       "      <td>5000.000000</td>\n",
       "    </tr>\n",
       "    <tr>\n",
       "      <th>25%</th>\n",
       "      <td>355.000000</td>\n",
       "      <td>2.000000</td>\n",
       "      <td>1.000000</td>\n",
       "      <td>10000.000000</td>\n",
       "    </tr>\n",
       "    <tr>\n",
       "      <th>50%</th>\n",
       "      <td>753.000000</td>\n",
       "      <td>2.000000</td>\n",
       "      <td>2.000000</td>\n",
       "      <td>18000.000000</td>\n",
       "    </tr>\n",
       "    <tr>\n",
       "      <th>75%</th>\n",
       "      <td>1076.000000</td>\n",
       "      <td>3.000000</td>\n",
       "      <td>2.000000</td>\n",
       "      <td>22000.000000</td>\n",
       "    </tr>\n",
       "    <tr>\n",
       "      <th>max</th>\n",
       "      <td>5489.000000</td>\n",
       "      <td>6.000000</td>\n",
       "      <td>2.000000</td>\n",
       "      <td>48000.000000</td>\n",
       "    </tr>\n",
       "  </tbody>\n",
       "</table>\n",
       "</div>"
      ],
      "text/plain": [
       "       sqlt_living   bedroom  bathroom         price\n",
       "count     9.000000  9.000000  9.000000      9.000000\n",
       "mean   1221.777778  2.666667  1.555556  20333.333333\n",
       "std    1632.865639  1.414214  0.527046  14551.632211\n",
       "min     279.000000  1.000000  1.000000   5000.000000\n",
       "25%     355.000000  2.000000  1.000000  10000.000000\n",
       "50%     753.000000  2.000000  2.000000  18000.000000\n",
       "75%    1076.000000  3.000000  2.000000  22000.000000\n",
       "max    5489.000000  6.000000  2.000000  48000.000000"
      ]
     },
     "execution_count": 48,
     "metadata": {},
     "output_type": "execute_result"
    }
   ],
   "source": [
    "#Melihat statistical description dari data mulai dari mean, kuartil, standard deviation dll.\n",
    "df.describe()"
   ]
  },
  {
   "cell_type": "code",
   "execution_count": 49,
   "id": "8df44c4e",
   "metadata": {},
   "outputs": [
    {
     "data": {
      "text/plain": [
       "sqlt_living    0\n",
       "bedroom        0\n",
       "bathroom       0\n",
       "price          0\n",
       "dtype: int64"
      ]
     },
     "execution_count": 49,
     "metadata": {},
     "output_type": "execute_result"
    }
   ],
   "source": [
    "# #Mencari dan menangani missing values.\n",
    "#Ternyata datanya sudah tidak ada missing values.\n",
    "df.isnull().sum()"
   ]
  },
  {
   "cell_type": "code",
   "execution_count": 50,
   "id": "ce18dcf4",
   "metadata": {},
   "outputs": [
    {
     "name": "stderr",
     "output_type": "stream",
     "text": [
      "C:\\Users\\USER\\anaconda3\\lib\\site-packages\\seaborn\\_decorators.py:36: FutureWarning: Pass the following variable as a keyword arg: x. From version 0.12, the only valid positional argument will be `data`, and passing other arguments without an explicit keyword will result in an error or misinterpretation.\n",
      "  warnings.warn(\n"
     ]
    },
    {
     "data": {
      "image/png": "[encoded data removed]",
      "text/plain": [
       "<Figure size 864x288 with 2 Axes>"
      ]
     },
     "metadata": {
      "needs_background": "light"
     },
     "output_type": "display_data"
    }
   ],
   "source": [
    "#Univariate analysis bedrooms.\n",
    "f = plt.figure(figsize=(12,4))\n",
    "f.add_subplot(1,2,1)\n",
    "sns.countplot(df['bedroom'])\n",
    "\n",
    "f.add_subplot(1,2,2)\n",
    "plt.boxplot(df['bedroom'])\n",
    "plt.show()"
   ]
  },
  {
   "cell_type": "code",
   "execution_count": 51,
   "id": "1a124263",
   "metadata": {},
   "outputs": [
    {
     "name": "stderr",
     "output_type": "stream",
     "text": [
      "C:\\Users\\USER\\anaconda3\\lib\\site-packages\\seaborn\\_decorators.py:36: FutureWarning: Pass the following variable as a keyword arg: x. From version 0.12, the only valid positional argument will be `data`, and passing other arguments without an explicit keyword will result in an error or misinterpretation.\n",
      "  warnings.warn(\n"
     ]
    },
    {
     "data": {
      "image/png": "[encoded data removed]",
      "text/plain": [
       "<Figure size 864x288 with 2 Axes>"
      ]
     },
     "metadata": {
      "needs_background": "light"
     },
     "output_type": "display_data"
    }
   ],
   "source": [
    "#Univariate analysis bathrooms.\n",
    "\n",
    "f = plt.figure(figsize=(12,4))\n",
    "f.add_subplot(1,2,1)\n",
    "sns.countplot(df['bathroom'])\n",
    "\n",
    "f.add_subplot(1,2,2)\n",
    "plt.boxplot(df['bathroom'])\n",
    "plt.show()"
   ]
  },
  {
   "cell_type": "code",
   "execution_count": 52,
   "id": "a89eb41a",
   "metadata": {},
   "outputs": [
    {
     "data": {
      "image/png": "[encoded data removed]",
      "text/plain": [
       "<Figure size 864x288 with 2 Axes>"
      ]
     },
     "metadata": {
      "needs_background": "light"
     },
     "output_type": "display_data"
    }
   ],
   "source": [
    "#Univariate analysis sqft_living.\n",
    "\n",
    "f = plt.figure(figsize=(12,4))\n",
    "f.add_subplot(1,2,1)\n",
    "df['sqlt_living'].plot(kind='kde')\n",
    "\n",
    "f.add_subplot(1,2,2)\n",
    "plt.boxplot(df['sqlt_living'])\n",
    "plt.show()"
   ]
  },
  {
   "cell_type": "code",
   "execution_count": 53,
   "id": "fdca6aef",
   "metadata": {},
   "outputs": [
    {
     "name": "stderr",
     "output_type": "stream",
     "text": [
      "C:\\Users\\USER\\anaconda3\\lib\\site-packages\\seaborn\\_decorators.py:36: FutureWarning: Pass the following variable as a keyword arg: x. From version 0.12, the only valid positional argument will be `data`, and passing other arguments without an explicit keyword will result in an error or misinterpretation.\n",
      "  warnings.warn(\n"
     ]
    },
    {
     "data": {
      "image/png": "[encoded data removed]",
      "text/plain": [
       "<Figure size 1440x576 with 2 Axes>"
      ]
     },
     "metadata": {
      "needs_background": "light"
     },
     "output_type": "display_data"
    }
   ],
   "source": [
    "#Univariate analysis price.\n",
    "\n",
    "f = plt.figure(figsize=(20,8))\n",
    "f.add_subplot(1,2,1)\n",
    "sns.countplot(df['price'])\n",
    "\n",
    "f.add_subplot(1,2,2)\n",
    "plt.boxplot(df['price'])\n",
    "plt.show()"
   ]
  },
  {
   "cell_type": "code",
   "execution_count": 54,
   "id": "db71f0ac",
   "metadata": {},
   "outputs": [
    {
     "data": {
      "text/plain": [
       "<seaborn.axisgrid.PairGrid at 0x2349bd63220>"
      ]
     },
     "execution_count": 54,
     "metadata": {},
     "output_type": "execute_result"
    },
    {
     "data": {
      "text/plain": [
       "<Figure size 720x576 with 0 Axes>"
      ]
     },
     "metadata": {},
     "output_type": "display_data"
    },
    {
     "data": {
      "image/png": "[encoded data removed]",
      "text/plain": [
       "<Figure size 648x288 with 3 Axes>"
      ]
     },
     "metadata": {
      "needs_background": "light"
     },
     "output_type": "display_data"
    }
   ],
   "source": [
    "#Bivariate analysis antara independent variable dan dependent variable.\n",
    "\n",
    "plt.figure(figsize=(10,8))\n",
    "sns.pairplot(data=df, x_vars=['bedroom', 'bathroom', 'sqlt_living'], y_vars=['price'], height=4, aspect=0.75)"
   ]
  },
  {
   "cell_type": "code",
   "execution_count": 55,
   "id": "28d5fed5",
   "metadata": {},
   "outputs": [
    {
     "data": {
      "text/html": [
       "<style  type=\"text/css\" >\n",
       "#T_907e0_row0_col0,#T_907e0_row1_col1,#T_907e0_row2_col2,#T_907e0_row3_col3{\n",
       "            background-color:  #023858;\n",
       "            color:  #f1f1f1;\n",
       "        }#T_907e0_row0_col1,#T_907e0_row0_col3,#T_907e0_row3_col0,#T_907e0_row3_col2{\n",
       "            background-color:  #fff7fb;\n",
       "            color:  #000000;\n",
       "        }#T_907e0_row0_col2{\n",
       "            background-color:  #cdd0e5;\n",
       "            color:  #000000;\n",
       "        }#T_907e0_row1_col0{\n",
       "            background-color:  #f4edf6;\n",
       "            color:  #000000;\n",
       "        }#T_907e0_row1_col2{\n",
       "            background-color:  #65a3cb;\n",
       "            color:  #000000;\n",
       "        }#T_907e0_row1_col3{\n",
       "            background-color:  #d7d6e9;\n",
       "            color:  #000000;\n",
       "        }#T_907e0_row2_col0{\n",
       "            background-color:  #83afd3;\n",
       "            color:  #000000;\n",
       "        }#T_907e0_row2_col1{\n",
       "            background-color:  #348ebf;\n",
       "            color:  #000000;\n",
       "        }#T_907e0_row2_col3{\n",
       "            background-color:  #c8cde4;\n",
       "            color:  #000000;\n",
       "        }#T_907e0_row3_col1{\n",
       "            background-color:  #e6e2ef;\n",
       "            color:  #000000;\n",
       "        }</style><table id=\"T_907e0_\" ><thead>    <tr>        <th class=\"blank level0\" ></th>        <th class=\"col_heading level0 col0\" >sqlt_living</th>        <th class=\"col_heading level0 col1\" >bedroom</th>        <th class=\"col_heading level0 col2\" >bathroom</th>        <th class=\"col_heading level0 col3\" >price</th>    </tr></thead><tbody>\n",
       "                <tr>\n",
       "                        <th id=\"T_907e0_level0_row0\" class=\"row_heading level0 row0\" >sqlt_living</th>\n",
       "                        <td id=\"T_907e0_row0_col0\" class=\"data row0 col0\" >1.00</td>\n",
       "                        <td id=\"T_907e0_row0_col1\" class=\"data row0 col1\" >-0.04</td>\n",
       "                        <td id=\"T_907e0_row0_col2\" class=\"data row0 col2\" >0.40</td>\n",
       "                        <td id=\"T_907e0_row0_col3\" class=\"data row0 col3\" >-0.13</td>\n",
       "            </tr>\n",
       "            <tr>\n",
       "                        <th id=\"T_907e0_level0_row1\" class=\"row_heading level0 row1\" >bedroom</th>\n",
       "                        <td id=\"T_907e0_row1_col0\" class=\"data row1 col0\" >-0.04</td>\n",
       "                        <td id=\"T_907e0_row1_col1\" class=\"data row1 col1\" >1.00</td>\n",
       "                        <td id=\"T_907e0_row1_col2\" class=\"data row1 col2\" >0.61</td>\n",
       "                        <td id=\"T_907e0_row1_col3\" class=\"data row1 col3\" >0.12</td>\n",
       "            </tr>\n",
       "            <tr>\n",
       "                        <th id=\"T_907e0_level0_row2\" class=\"row_heading level0 row2\" >bathroom</th>\n",
       "                        <td id=\"T_907e0_row2_col0\" class=\"data row2 col0\" >0.40</td>\n",
       "                        <td id=\"T_907e0_row2_col1\" class=\"data row2 col1\" >0.61</td>\n",
       "                        <td id=\"T_907e0_row2_col2\" class=\"data row2 col2\" >1.00</td>\n",
       "                        <td id=\"T_907e0_row2_col3\" class=\"data row2 col3\" >0.18</td>\n",
       "            </tr>\n",
       "            <tr>\n",
       "                        <th id=\"T_907e0_level0_row3\" class=\"row_heading level0 row3\" >price</th>\n",
       "                        <td id=\"T_907e0_row3_col0\" class=\"data row3 col0\" >-0.13</td>\n",
       "                        <td id=\"T_907e0_row3_col1\" class=\"data row3 col1\" >0.12</td>\n",
       "                        <td id=\"T_907e0_row3_col2\" class=\"data row3 col2\" >0.18</td>\n",
       "                        <td id=\"T_907e0_row3_col3\" class=\"data row3 col3\" >1.00</td>\n",
       "            </tr>\n",
       "    </tbody></table>"
      ],
      "text/plain": [
       "<pandas.io.formats.style.Styler at 0x2349bd870a0>"
      ]
     },
     "execution_count": 55,
     "metadata": {},
     "output_type": "execute_result"
    }
   ],
   "source": [
    "#Mengetahui nilai korelasi dari independent variable dan dependent variable.\n",
    "df.corr().style.background_gradient().set_precision(2)"
   ]
  },
  {
   "cell_type": "code",
   "execution_count": 56,
   "id": "1073a119",
   "metadata": {},
   "outputs": [],
   "source": [
    "#Pertama, buat variabel x dan y.\n",
    "x = df.drop(columns='price')\n",
    "y = df['price']"
   ]
  },
  {
   "cell_type": "code",
   "execution_count": 57,
   "id": "56f922f2",
   "metadata": {},
   "outputs": [],
   "source": [
    "#Kedua, split data menjadi training and testing dengan porsi 80:20.\n",
    "x_train, x_test, y_train, y_test = train_test_split(x, y, test_size=0.2, random_state=4)"
   ]
  },
  {
   "cell_type": "code",
   "execution_count": 58,
   "id": "ac86de74",
   "metadata": {},
   "outputs": [],
   "source": [
    "#Ketiga, bikin object linear regresi.\n",
    "lin_reg = LinearRegression()"
   ]
  },
  {
   "cell_type": "code",
   "execution_count": 59,
   "id": "3bd242bf",
   "metadata": {},
   "outputs": [
    {
     "data": {
      "text/plain": [
       "LinearRegression()"
      ]
     },
     "execution_count": 59,
     "metadata": {},
     "output_type": "execute_result"
    }
   ],
   "source": [
    "#Keempat, train the model menggunakan training data yang sudah displit.\n",
    "lin_reg.fit(x_train, y_train)"
   ]
  },
  {
   "cell_type": "code",
   "execution_count": 60,
   "id": "0055e9cf",
   "metadata": {},
   "outputs": [
    {
     "name": "stdout",
     "output_type": "stream",
     "text": [
      "[-4.02802262e+00 -1.19381618e+04  3.01705325e+04]\n",
      "2921.3259572683855\n"
     ]
    }
   ],
   "source": [
    "#Kelima, cari tau nilai slope/koefisien (m) dan intercept (b).\n",
    "print(lin_reg.coef_)\n",
    "print(lin_reg.intercept_)"
   ]
  },
  {
   "cell_type": "code",
   "execution_count": 61,
   "id": "e78ea05c",
   "metadata": {},
   "outputs": [
    {
     "data": {
      "text/plain": [
       "-15.679517574443484"
      ]
     },
     "execution_count": 61,
     "metadata": {},
     "output_type": "execute_result"
    }
   ],
   "source": [
    "#Keenam, cari tahu accuracy score dari model menggunakan testing data yang sudah displit.\n",
    "lin_reg.score(x_test, y_test)\n"
   ]
  },
  {
   "cell_type": "code",
   "execution_count": 68,
   "id": "eab5d885",
   "metadata": {},
   "outputs": [
    {
     "data": {
      "text/plain": [
       "array([16584763.97540404])"
      ]
     },
     "execution_count": 68,
     "metadata": {},
     "output_type": "execute_result"
    }
   ],
   "source": [
    "#Prediksi harga rumah idaman Joko.\n",
    "# Jumlah kamar tidur, mandi, luas tanah\n",
    "lin_reg.predict([[3,1,550]])"
   ]
  },
  {
   "cell_type": "code",
   "execution_count": null,
   "id": "6cf1bc80",
   "metadata": {},
   "outputs": [],
   "source": []
  }
 ],
 "metadata": {
  "kernelspec": {
   "display_name": "Python 3",
   "language": "python",
   "name": "python3"
  },
  "language_info": {
   "codemirror_mode": {
    "name": "ipython",
    "version": 3
   },
   "file_extension": ".py",
   "mimetype": "text/x-python",
   "name": "python",
   "nbconvert_exporter": "python",
   "pygments_lexer": "ipython3",
   "version": "3.8.8"
  }
 },
 "nbformat": 4,
 "nbformat_minor": 5
}
